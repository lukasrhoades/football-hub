{
 "cells": [
  {
   "cell_type": "code",
   "execution_count": null,
   "metadata": {},
   "outputs": [],
   "source": [
    "import pandas as pd\n",
    "# Read in players\n",
    "df = pd.read_csv(\"player_list.csv\")\n",
    "players = list(zip(df.name, df.team))"
   ]
  },
  {
   "cell_type": "code",
   "execution_count": null,
   "metadata": {},
   "outputs": [],
   "source": [
    "import phase2\n",
    "import glob\n",
    "import os\n",
    "\n",
    "# Clear current images directory\n",
    "files = glob.glob(\"batch_images/*\")\n",
    "for file in files:\n",
    "    os.remove(file)\n",
    "\n",
    "# Get batch images\n",
    "phase2.get_batch_images(players)"
   ]
  }
 ],
 "metadata": {
  "kernelspec": {
   "display_name": "base",
   "language": "python",
   "name": "python3"
  },
  "language_info": {
   "codemirror_mode": {
    "name": "ipython",
    "version": 3
   },
   "file_extension": ".py",
   "mimetype": "text/x-python",
   "name": "python",
   "nbconvert_exporter": "python",
   "pygments_lexer": "ipython3",
   "version": "3.12.2"
  }
 },
 "nbformat": 4,
 "nbformat_minor": 2
}
