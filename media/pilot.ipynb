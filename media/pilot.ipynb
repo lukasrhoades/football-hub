{
 "cells": [
  {
   "cell_type": "code",
   "execution_count": 1,
   "metadata": {},
   "outputs": [
    {
     "name": "stdout",
     "output_type": "stream",
     "text": [
      "Number of images: 80\n"
     ]
    }
   ],
   "source": [
    "import media\n",
    "import glob\n",
    "import os\n",
    "\n",
    "# Clear current images directory\n",
    "files = glob.glob(\"images/*\")\n",
    "for file in files:\n",
    "    os.remove(file)\n",
    "\n",
    "# Fetch new images\n",
    "initial_players = media.get_players(1000)\n",
    "sample = media.random_selection(initial_players)\n",
    "media.get_images(sample)\n",
    "\n",
    "# Count number successful images\n",
    "files = glob.glob(\"images/*\")\n",
    "print(f\"Number of images: {len(files)}\")"
   ]
  }
 ],
 "metadata": {
  "kernelspec": {
   "display_name": "base",
   "language": "python",
   "name": "python3"
  },
  "language_info": {
   "codemirror_mode": {
    "name": "ipython",
    "version": 3
   },
   "file_extension": ".py",
   "mimetype": "text/x-python",
   "name": "python",
   "nbconvert_exporter": "python",
   "pygments_lexer": "ipython3",
   "version": "3.12.2"
  }
 },
 "nbformat": 4,
 "nbformat_minor": 2
}
